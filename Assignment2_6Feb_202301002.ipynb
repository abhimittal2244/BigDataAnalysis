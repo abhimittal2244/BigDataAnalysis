{
  "nbformat": 4,
  "nbformat_minor": 0,
  "metadata": {
    "colab": {
      "provenance": [],
      "authorship_tag": "ABX9TyNqFvodLIaLtWGZQp1k2B+3",
      "include_colab_link": true
    },
    "kernelspec": {
      "name": "python3",
      "display_name": "Python 3"
    },
    "language_info": {
      "name": "python"
    }
  },
  "cells": [
    {
      "cell_type": "markdown",
      "metadata": {
        "id": "view-in-github",
        "colab_type": "text"
      },
      "source": [
        "<a href=\"https://colab.research.google.com/github/abhimittal2244/BigDataAnalysis/blob/main/Assignment2_6Feb_202301002.ipynb\" target=\"_parent\"><img src=\"https://colab.research.google.com/assets/colab-badge.svg\" alt=\"Open In Colab\"/></a>"
      ]
    },
    {
      "cell_type": "code",
      "execution_count": null,
      "metadata": {
        "id": "4hnTL4OzhIaK"
      },
      "outputs": [],
      "source": [
        "import numpy as np\n",
        "arr1 = np.array([1, 2, 3, 6, 4, 5])\n",
        "for i in range(0, len(arr1)//2):\n",
        "  arr1[i], arr1[len(arr1)-1-i] = arr1[len(arr1)-1-i], arr1[i]\n",
        "print(arr1)"
      ]
    },
    {
      "cell_type": "code",
      "source": [
        "import numpy as np\n",
        "arr1 = np.array([[1, 2], [3, 4]])\n",
        "arr2 = np.array([[1, 2], [3, 4]])\n",
        "if np.array_equal(arr1, arr2):\n",
        "  print(\"Arrays are equal\")\n",
        "else:\n",
        "  print(\"Arrays are not equal\")"
      ],
      "metadata": {
        "id": "uV96__d-ha9Y"
      },
      "execution_count": null,
      "outputs": []
    },
    {
      "cell_type": "code",
      "source": [
        "import numpy as np\n",
        "gfg = np.matrix('[4, 1, 9; 12, 3, 1; 4, 5, 6]')\n",
        "sum_of_matrix = np.sum(gfg)\n",
        "sum_of_rows = np.sum(gfg, 1)\n",
        "sum_of_cols = np.sum(gfg, 0)\n",
        "print(f\"sum of matrix: {sum_of_matrix}\")\n",
        "print(f\"sum of matrix row-wise: {sum_of_rows}\")\n",
        "print(f\"sum of matrix col-wise: {sum_of_cols}\")"
      ],
      "metadata": {
        "id": "N2Z6Nw48hgm7"
      },
      "execution_count": null,
      "outputs": []
    },
    {
      "cell_type": "code",
      "source": [
        "import numpy as np\n",
        "x = np.array([1, 2, 3, 4, 5, 1, 2, 1, 1, 1])\n",
        "unique_values_x, counts_x = np.unique(x, return_counts=True)\n",
        "most_frequent_index_x = np.argmax(counts_x)\n",
        "most_frequent_value_x = unique_values_x[most_frequent_index_x]\n",
        "indices_x = np.where(x == most_frequent_value_x)[0]\n",
        "\n",
        "print(\"For array x:\")\n",
        "print(\"Most frequent value:\", most_frequent_value_x)\n",
        "print(\"Indices of the most frequent value(s):\", indices_x)\n",
        "\n",
        "y = np.array([1, 1, 1, 2, 3, 4, 2, 4, 3, 3])\n",
        "unique_values_y, counts_y = np.unique(y, return_counts=True)\n",
        "most_frequent_index_y = np.argmax(counts_y)\n",
        "most_frequent_value_y = unique_values_y[most_frequent_index_y]\n",
        "indices_y = np.where(y == most_frequent_value_y)[0]\n",
        "\n",
        "print(\"\\nFor array y:\")\n",
        "print(\"Most frequent value:\", most_frequent_value_y)\n",
        "print(\"Indices of the most frequent value(s):\", indices_y)"
      ],
      "metadata": {
        "id": "Dcwxqd6uhwLz"
      },
      "execution_count": null,
      "outputs": []
    }
  ]
}