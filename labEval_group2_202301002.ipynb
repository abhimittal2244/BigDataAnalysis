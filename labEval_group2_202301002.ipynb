{
  "nbformat": 4,
  "nbformat_minor": 0,
  "metadata": {
    "colab": {
      "provenance": [],
      "authorship_tag": "ABX9TyPZCaJCaESqf/UuDJKE4EHS",
      "include_colab_link": true
    },
    "kernelspec": {
      "name": "python3",
      "display_name": "Python 3"
    },
    "language_info": {
      "name": "python"
    }
  },
  "cells": [
    {
      "cell_type": "markdown",
      "metadata": {
        "id": "view-in-github",
        "colab_type": "text"
      },
      "source": [
        "<a href=\"https://colab.research.google.com/github/abhimittal2244/BigDataAnalysis/blob/main/labEval_group2_202301002.ipynb\" target=\"_parent\"><img src=\"https://colab.research.google.com/assets/colab-badge.svg\" alt=\"Open In Colab\"/></a>"
      ]
    },
    {
      "cell_type": "code",
      "execution_count": 15,
      "metadata": {
        "colab": {
          "base_uri": "https://localhost:8080/"
        },
        "id": "4rOXMjQ1WQ30",
        "outputId": "d0ffc96d-de88-4771-cf57-554f0d4055fc"
      },
      "outputs": [
        {
          "output_type": "stream",
          "name": "stdout",
          "text": [
            "ques1:  [ 10  16  16  52  54  62 453]\n",
            "ques2:  [0 3 4 1 5 2 6]\n",
            "ques3:  [10 16 16 52]\n",
            "ques4:  [ 16  52  54  62 453]\n"
          ]
        }
      ],
      "source": [
        "import numpy as np\n",
        "array = np.array([10, 52, 62, 16, 16, 54, 453])\n",
        "sorted_array = np.sort(array)\n",
        "four_smallest_elements = sorted_array[:4]\n",
        "five_largest_elements = sorted_array[-5:]\n",
        "indices_list = []\n",
        "print(\"ques1: \",sorted_array)\n",
        "print(\"ques2: \",np.argsort(array))\n",
        "print(\"ques3: \",four_smallest_elements)\n",
        "print(\"ques4: \",five_largest_elements)"
      ]
    }
  ]
}